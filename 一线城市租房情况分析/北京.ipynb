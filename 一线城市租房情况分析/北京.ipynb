{
 "cells": [
  {
   "cell_type": "code",
   "execution_count": 1,
   "metadata": {},
   "outputs": [],
   "source": [
    "import numpy as np\n",
    "import pandas as pd\n",
    "import math\n",
    "import matplotlib.pyplot as plt\n",
    "import warnings\n",
    "warnings.filterwarnings('ignore')\n",
    "\n",
    "from pyecharts.charts import *\n",
    "from pyecharts import options as opts\n",
    "\n",
    "import seaborn as sns\n",
    "sns.set(style = 'darkgrid')\n",
    "# 设置seaborn的绘图风格，注意该行代码要放在matplotlib参数设置之前，避免中文和负号无法正常显示\n",
    "\n",
    "plt.rcParams['font.sans-serif'] = ['SimHei']\n",
    "plt.rcParams['axes.unicode_minus'] = False"
   ]
  },
  {
   "cell_type": "markdown",
   "metadata": {},
   "source": [
    "## 北京租房情况分析"
   ]
  },
  {
   "cell_type": "code",
   "execution_count": 2,
   "metadata": {},
   "outputs": [
    {
     "data": {
      "text/html": [
       "<div>\n",
       "<style scoped>\n",
       "    .dataframe tbody tr th:only-of-type {\n",
       "        vertical-align: middle;\n",
       "    }\n",
       "\n",
       "    .dataframe tbody tr th {\n",
       "        vertical-align: top;\n",
       "    }\n",
       "\n",
       "    .dataframe thead th {\n",
       "        text-align: right;\n",
       "    }\n",
       "</style>\n",
       "<table border=\"1\" class=\"dataframe\">\n",
       "  <thead>\n",
       "    <tr style=\"text-align: right;\">\n",
       "      <th></th>\n",
       "      <th>Unnamed: 0</th>\n",
       "      <th>区域</th>\n",
       "      <th>小区名称</th>\n",
       "      <th>户型</th>\n",
       "      <th>面积(㎡)</th>\n",
       "      <th>价格(元/月)</th>\n",
       "      <th>位置</th>\n",
       "    </tr>\n",
       "  </thead>\n",
       "  <tbody>\n",
       "    <tr>\n",
       "      <th>0</th>\n",
       "      <td>0</td>\n",
       "      <td>东城</td>\n",
       "      <td>万国城MOMA</td>\n",
       "      <td>1室0厅</td>\n",
       "      <td>59.11</td>\n",
       "      <td>10000</td>\n",
       "      <td>北京市东城区万国城MOMA</td>\n",
       "    </tr>\n",
       "    <tr>\n",
       "      <th>1</th>\n",
       "      <td>1</td>\n",
       "      <td>东城</td>\n",
       "      <td>北官厅胡同2号院</td>\n",
       "      <td>3室0厅</td>\n",
       "      <td>56.92</td>\n",
       "      <td>6000</td>\n",
       "      <td>北京市东城区北官厅胡同2号院</td>\n",
       "    </tr>\n",
       "    <tr>\n",
       "      <th>2</th>\n",
       "      <td>2</td>\n",
       "      <td>东城</td>\n",
       "      <td>和平里三区</td>\n",
       "      <td>1室1厅</td>\n",
       "      <td>40.57</td>\n",
       "      <td>6900</td>\n",
       "      <td>北京市东城区和平里三区</td>\n",
       "    </tr>\n",
       "    <tr>\n",
       "      <th>3</th>\n",
       "      <td>3</td>\n",
       "      <td>东城</td>\n",
       "      <td>菊儿胡同</td>\n",
       "      <td>2室1厅</td>\n",
       "      <td>57.09</td>\n",
       "      <td>8000</td>\n",
       "      <td>北京市东城区菊儿胡同</td>\n",
       "    </tr>\n",
       "    <tr>\n",
       "      <th>4</th>\n",
       "      <td>4</td>\n",
       "      <td>东城</td>\n",
       "      <td>交道口北二条35号院</td>\n",
       "      <td>1室1厅</td>\n",
       "      <td>42.67</td>\n",
       "      <td>5500</td>\n",
       "      <td>北京市东城区交道口北二条35号院</td>\n",
       "    </tr>\n",
       "  </tbody>\n",
       "</table>\n",
       "</div>"
      ],
      "text/plain": [
       "   Unnamed: 0  区域        小区名称    户型  面积(㎡)  价格(元/月)                位置\n",
       "0           0  东城     万国城MOMA  1室0厅  59.11    10000     北京市东城区万国城MOMA\n",
       "1           1  东城    北官厅胡同2号院  3室0厅  56.92     6000    北京市东城区北官厅胡同2号院\n",
       "2           2  东城       和平里三区  1室1厅  40.57     6900       北京市东城区和平里三区\n",
       "3           3  东城        菊儿胡同  2室1厅  57.09     8000        北京市东城区菊儿胡同\n",
       "4           4  东城  交道口北二条35号院  1室1厅  42.67     5500  北京市东城区交道口北二条35号院"
      ]
     },
     "execution_count": 2,
     "metadata": {},
     "output_type": "execute_result"
    }
   ],
   "source": [
    "BJ=pd.read_csv('data/链家北京租房数据.csv')\n",
    "BJ.head()"
   ]
  },
  {
   "cell_type": "code",
   "execution_count": 3,
   "metadata": {},
   "outputs": [],
   "source": [
    "BJ.drop(['Unnamed: 0','小区名称'],inplace=True,axis=1)"
   ]
  },
  {
   "cell_type": "markdown",
   "metadata": {},
   "source": [
    "BJ.head()"
   ]
  },
  {
   "cell_type": "code",
   "execution_count": 5,
   "metadata": {},
   "outputs": [
    {
     "data": {
      "text/html": [
       "<div>\n",
       "<style scoped>\n",
       "    .dataframe tbody tr th:only-of-type {\n",
       "        vertical-align: middle;\n",
       "    }\n",
       "\n",
       "    .dataframe tbody tr th {\n",
       "        vertical-align: top;\n",
       "    }\n",
       "\n",
       "    .dataframe thead th {\n",
       "        text-align: right;\n",
       "    }\n",
       "</style>\n",
       "<table border=\"1\" class=\"dataframe\">\n",
       "  <thead>\n",
       "    <tr style=\"text-align: right;\">\n",
       "      <th></th>\n",
       "      <th>count</th>\n",
       "      <th>mean</th>\n",
       "      <th>std</th>\n",
       "      <th>min</th>\n",
       "      <th>25%</th>\n",
       "      <th>50%</th>\n",
       "      <th>75%</th>\n",
       "      <th>max</th>\n",
       "    </tr>\n",
       "  </thead>\n",
       "  <tbody>\n",
       "    <tr>\n",
       "      <th>面积(㎡)</th>\n",
       "      <td>5773.0</td>\n",
       "      <td>96.516129</td>\n",
       "      <td>61.510085</td>\n",
       "      <td>11.63</td>\n",
       "      <td>59.15</td>\n",
       "      <td>81.95</td>\n",
       "      <td>112.52</td>\n",
       "      <td>1133.0</td>\n",
       "    </tr>\n",
       "    <tr>\n",
       "      <th>价格(元/月)</th>\n",
       "      <td>5773.0</td>\n",
       "      <td>9616.677464</td>\n",
       "      <td>9367.993801</td>\n",
       "      <td>566.00</td>\n",
       "      <td>4800.00</td>\n",
       "      <td>6800.00</td>\n",
       "      <td>10500.00</td>\n",
       "      <td>150000.0</td>\n",
       "    </tr>\n",
       "  </tbody>\n",
       "</table>\n",
       "</div>"
      ],
      "text/plain": [
       "          count         mean          std     min      25%      50%       75%  \\\n",
       "面积(㎡)    5773.0    96.516129    61.510085   11.63    59.15    81.95    112.52   \n",
       "价格(元/月)  5773.0  9616.677464  9367.993801  566.00  4800.00  6800.00  10500.00   \n",
       "\n",
       "              max  \n",
       "面积(㎡)      1133.0  \n",
       "价格(元/月)  150000.0  "
      ]
     },
     "execution_count": 5,
     "metadata": {},
     "output_type": "execute_result"
    }
   ],
   "source": [
    "# 描述性统计分析\n",
    "BJ.describe().T"
   ]
  },
  {
   "cell_type": "code",
   "execution_count": 7,
   "metadata": {},
   "outputs": [
    {
     "name": "stdout",
     "output_type": "stream",
     "text": [
      "<class 'pandas.core.frame.DataFrame'>\n",
      "RangeIndex: 5773 entries, 0 to 5772\n",
      "Data columns (total 5 columns):\n",
      " #   Column   Non-Null Count  Dtype  \n",
      "---  ------   --------------  -----  \n",
      " 0   区域       5773 non-null   object \n",
      " 1   户型       5773 non-null   object \n",
      " 2   面积(㎡)    5773 non-null   float64\n",
      " 3   价格(元/月)  5773 non-null   int64  \n",
      " 4   位置       5773 non-null   object \n",
      "dtypes: float64(1), int64(1), object(3)\n",
      "memory usage: 225.6+ KB\n"
     ]
    }
   ],
   "source": [
    "BJ.info()"
   ]
  },
  {
   "cell_type": "code",
   "execution_count": 8,
   "metadata": {},
   "outputs": [
    {
     "data": {
      "text/plain": [
       "朝阳       1597\n",
       "海淀        605\n",
       "丰台        577\n",
       "通州        477\n",
       "西城        442\n",
       "大兴        362\n",
       "昌平        347\n",
       "顺义        297\n",
       "门头沟       285\n",
       "东城        282\n",
       "房山        180\n",
       "石景山       175\n",
       "亦庄开发区     147\n",
       "Name: 区域, dtype: int64"
      ]
     },
     "execution_count": 8,
     "metadata": {},
     "output_type": "execute_result"
    }
   ],
   "source": [
    "BJ.区域.value_counts()"
   ]
  },
  {
   "cell_type": "code",
   "execution_count": 9,
   "metadata": {},
   "outputs": [],
   "source": [
    "BJ=BJ.rename(columns={'区域':'行政区','价格(元/月)':'租金(元/月)'})"
   ]
  },
  {
   "cell_type": "code",
   "execution_count": 10,
   "metadata": {},
   "outputs": [
    {
     "data": {
      "text/html": [
       "<div>\n",
       "<style scoped>\n",
       "    .dataframe tbody tr th:only-of-type {\n",
       "        vertical-align: middle;\n",
       "    }\n",
       "\n",
       "    .dataframe tbody tr th {\n",
       "        vertical-align: top;\n",
       "    }\n",
       "\n",
       "    .dataframe thead th {\n",
       "        text-align: right;\n",
       "    }\n",
       "</style>\n",
       "<table border=\"1\" class=\"dataframe\">\n",
       "  <thead>\n",
       "    <tr style=\"text-align: right;\">\n",
       "      <th></th>\n",
       "      <th>行政区</th>\n",
       "      <th>户型</th>\n",
       "      <th>面积(㎡)</th>\n",
       "      <th>租金(元/月)</th>\n",
       "      <th>位置</th>\n",
       "    </tr>\n",
       "  </thead>\n",
       "  <tbody>\n",
       "    <tr>\n",
       "      <th>0</th>\n",
       "      <td>东城</td>\n",
       "      <td>1室0厅</td>\n",
       "      <td>59.11</td>\n",
       "      <td>10000</td>\n",
       "      <td>北京市东城区万国城MOMA</td>\n",
       "    </tr>\n",
       "    <tr>\n",
       "      <th>1</th>\n",
       "      <td>东城</td>\n",
       "      <td>3室0厅</td>\n",
       "      <td>56.92</td>\n",
       "      <td>6000</td>\n",
       "      <td>北京市东城区北官厅胡同2号院</td>\n",
       "    </tr>\n",
       "    <tr>\n",
       "      <th>2</th>\n",
       "      <td>东城</td>\n",
       "      <td>1室1厅</td>\n",
       "      <td>40.57</td>\n",
       "      <td>6900</td>\n",
       "      <td>北京市东城区和平里三区</td>\n",
       "    </tr>\n",
       "    <tr>\n",
       "      <th>3</th>\n",
       "      <td>东城</td>\n",
       "      <td>2室1厅</td>\n",
       "      <td>57.09</td>\n",
       "      <td>8000</td>\n",
       "      <td>北京市东城区菊儿胡同</td>\n",
       "    </tr>\n",
       "    <tr>\n",
       "      <th>4</th>\n",
       "      <td>东城</td>\n",
       "      <td>1室1厅</td>\n",
       "      <td>42.67</td>\n",
       "      <td>5500</td>\n",
       "      <td>北京市东城区交道口北二条35号院</td>\n",
       "    </tr>\n",
       "  </tbody>\n",
       "</table>\n",
       "</div>"
      ],
      "text/plain": [
       "  行政区    户型  面积(㎡)  租金(元/月)                位置\n",
       "0  东城  1室0厅  59.11    10000     北京市东城区万国城MOMA\n",
       "1  东城  3室0厅  56.92     6000    北京市东城区北官厅胡同2号院\n",
       "2  东城  1室1厅  40.57     6900       北京市东城区和平里三区\n",
       "3  东城  2室1厅  57.09     8000        北京市东城区菊儿胡同\n",
       "4  东城  1室1厅  42.67     5500  北京市东城区交道口北二条35号院"
      ]
     },
     "execution_count": 10,
     "metadata": {},
     "output_type": "execute_result"
    }
   ],
   "source": [
    "BJ.head()"
   ]
  },
  {
   "cell_type": "markdown",
   "metadata": {},
   "source": [
    "## 面积，租金分布情况"
   ]
  },
  {
   "cell_type": "code",
   "execution_count": 11,
   "metadata": {},
   "outputs": [
    {
     "data": {
      "image/png": "[encoded data removed]",
      "text/plain": [
       "<Figure size 864x720 with 1 Axes>"
      ]
     },
     "metadata": {},
     "output_type": "display_data"
    }
   ],
   "source": [
    "BJ=BJ[BJ['面积(㎡)']<500]\n",
    "plt.figure(figsize=(12,10))\n",
    "sns.histplot(x=BJ['面积(㎡)'],bins=100)\n",
    "plt.title('面积分布情况',fontsize=20,y=1.02)\n",
    "plt.show()"
   ]
  },
  {
   "cell_type": "code",
   "execution_count": 12,
   "metadata": {},
   "outputs": [
    {
     "data": {
      "image/png": "[encoded data removed]",
      "text/plain": [
       "<Figure size 864x720 with 1 Axes>"
      ]
     },
     "metadata": {},
     "output_type": "display_data"
    }
   ],
   "source": [
    "BJ=BJ[BJ['租金(元/月)']<60000]  # 筛选离群值\n",
    "plt.figure(figsize=(12,10))\n",
    "sns.histplot(x=BJ['租金(元/月)'],bins=100)\n",
    "plt.title('租金分布情况',fontsize=20,y=1.02)\n",
    "plt.show()"
   ]
  },
  {
   "cell_type": "code",
   "execution_count": null,
   "metadata": {},
   "outputs": [],
   "source": []
  },
  {
   "cell_type": "markdown",
   "metadata": {},
   "source": [
    "## 行政区分析"
   ]
  },
  {
   "cell_type": "code",
   "execution_count": 13,
   "metadata": {},
   "outputs": [
    {
     "data": {
      "text/plain": [
       "朝阳       1585\n",
       "海淀        596\n",
       "丰台        575\n",
       "通州        477\n",
       "西城        436\n",
       "大兴        362\n",
       "昌平        345\n",
       "顺义        293\n",
       "门头沟       285\n",
       "东城        280\n",
       "房山        180\n",
       "石景山       175\n",
       "亦庄开发区     147\n",
       "Name: 行政区, dtype: int64"
      ]
     },
     "execution_count": 13,
     "metadata": {},
     "output_type": "execute_result"
    }
   ],
   "source": [
    "area = BJ.行政区.value_counts()\n",
    "area"
   ]
  },
  {
   "cell_type": "code",
   "execution_count": 14,
   "metadata": {},
   "outputs": [
    {
     "data": {
      "image/png": "[encoded data removed]",
      "text/plain": [
       "<Figure size 864x720 with 1 Axes>"
      ]
     },
     "metadata": {},
     "output_type": "display_data"
    }
   ],
   "source": [
    "# 绘制条形图，观察区域房源情况\n",
    "plt.figure(figsize=(12,10))\n",
    "sns.barplot(y=area.index,x=area)\n",
    "plt.xlabel('数量')\n",
    "plt.ylabel('行政区')\n",
    "plt.title('北京大区房数情况',fontsize=20,y=1.02)\n",
    "plt.savefig('北京大区房数情况.png')\n",
    "plt.show()"
   ]
  },
  {
   "cell_type": "code",
   "execution_count": 377,
   "metadata": {},
   "outputs": [
    {
     "data": {
      "text/plain": [
       "行政区\n",
       "东城       13991.312057\n",
       "西城       12753.337104\n",
       "朝阳       12699.684408\n",
       "海淀       12031.983471\n",
       "亦庄开发区     8968.707483\n",
       "Name: 租金(元/月), dtype: float64"
      ]
     },
     "execution_count": 377,
     "metadata": {},
     "output_type": "execute_result"
    }
   ],
   "source": [
    "# 绘制条形图，观察区域租金平均数情况\n",
    "area_money = BJ.groupby('行政区')['租金(元/月)'].mean().sort_values(ascending=False)\n",
    "area_money.head()"
   ]
  },
  {
   "cell_type": "code",
   "execution_count": 378,
   "metadata": {},
   "outputs": [
    {
     "data": {
      "text/plain": [
       "行政区\n",
       "东城       9400\n",
       "朝阳       8500\n",
       "海淀       8300\n",
       "西城       8050\n",
       "亦庄开发区    7000\n",
       "Name: 租金(元/月), dtype: int64"
      ]
     },
     "execution_count": 378,
     "metadata": {},
     "output_type": "execute_result"
    }
   ],
   "source": [
    "# 观察区域租金中位数情况\n",
    "area_money_line = BJ.groupby('行政区')['租金(元/月)'].median().sort_values(ascending=False)\n",
    "area_money_line.head()"
   ]
  },
  {
   "cell_type": "code",
   "execution_count": 379,
   "metadata": {},
   "outputs": [
    {
     "data": {
      "image/png": "[encoded data removed]",
      "text/plain": [
       "<Figure size 864x720 with 1 Axes>"
      ]
     },
     "metadata": {},
     "output_type": "display_data"
    }
   ],
   "source": [
    "# 绘图，表示租金价格情况\n",
    "plt.figure(figsize=(12,10))\n",
    "sns.barplot(y=area_money,x=area_money.index)\n",
    "sns.lineplot(y=area_money_line,x=area_money_line.index)\n",
    "plt.title('北京大区租金情况',fontsize=20,y=1.02)\n",
    "plt.savefig('北京大区租金情况.png')\n",
    "plt.show()"
   ]
  },
  {
   "cell_type": "markdown",
   "metadata": {},
   "source": [
    "## 户型分析"
   ]
  },
  {
   "cell_type": "code",
   "execution_count": 380,
   "metadata": {},
   "outputs": [],
   "source": [
    "#  构建一个提取前n个元素的函数\n",
    "def Tops(户型,n):\n",
    "    # n就是要提取的前几位\n",
    "    Top = BJ.户型.value_counts().head(n).index\n",
    "    if 户型 in Top:\n",
    "        # 如果在前n位\n",
    "        name = 户型\n",
    "    else:\n",
    "        # 不在前n位\n",
    "        name = '其他'\n",
    "    return name"
   ]
  },
  {
   "cell_type": "code",
   "execution_count": 381,
   "metadata": {},
   "outputs": [
    {
     "data": {
      "text/plain": [
       "2室1厅    2249\n",
       "1室1厅     844\n",
       "3室1厅     766\n",
       "3室2厅     489\n",
       "2室2厅     265\n",
       "Name: 户型, dtype: int64"
      ]
     },
     "execution_count": 381,
     "metadata": {},
     "output_type": "execute_result"
    }
   ],
   "source": [
    "BJ['户型'].value_counts().head()"
   ]
  },
  {
   "cell_type": "code",
   "execution_count": 382,
   "metadata": {},
   "outputs": [],
   "source": [
    "# 将尾部户型统一为其他\n",
    "BJ['户型1']=BJ.户型.apply(Tops,n=12)"
   ]
  },
  {
   "cell_type": "code",
   "execution_count": 383,
   "metadata": {},
   "outputs": [
    {
     "data": {
      "text/html": [
       "<div>\n",
       "<style scoped>\n",
       "    .dataframe tbody tr th:only-of-type {\n",
       "        vertical-align: middle;\n",
       "    }\n",
       "\n",
       "    .dataframe tbody tr th {\n",
       "        vertical-align: top;\n",
       "    }\n",
       "\n",
       "    .dataframe thead th {\n",
       "        text-align: right;\n",
       "    }\n",
       "</style>\n",
       "<table border=\"1\" class=\"dataframe\">\n",
       "  <thead>\n",
       "    <tr style=\"text-align: right;\">\n",
       "      <th></th>\n",
       "      <th>行政区</th>\n",
       "      <th>户型</th>\n",
       "      <th>面积(㎡)</th>\n",
       "      <th>租金(元/月)</th>\n",
       "      <th>位置</th>\n",
       "      <th>户型1</th>\n",
       "    </tr>\n",
       "  </thead>\n",
       "  <tbody>\n",
       "    <tr>\n",
       "      <th>0</th>\n",
       "      <td>东城</td>\n",
       "      <td>1室0厅</td>\n",
       "      <td>59.11</td>\n",
       "      <td>10000</td>\n",
       "      <td>北京市东城区万国城MOMA</td>\n",
       "      <td>1室0厅</td>\n",
       "    </tr>\n",
       "    <tr>\n",
       "      <th>1</th>\n",
       "      <td>东城</td>\n",
       "      <td>3室0厅</td>\n",
       "      <td>56.92</td>\n",
       "      <td>6000</td>\n",
       "      <td>北京市东城区北官厅胡同2号院</td>\n",
       "      <td>其他</td>\n",
       "    </tr>\n",
       "    <tr>\n",
       "      <th>2</th>\n",
       "      <td>东城</td>\n",
       "      <td>1室1厅</td>\n",
       "      <td>40.57</td>\n",
       "      <td>6900</td>\n",
       "      <td>北京市东城区和平里三区</td>\n",
       "      <td>1室1厅</td>\n",
       "    </tr>\n",
       "    <tr>\n",
       "      <th>3</th>\n",
       "      <td>东城</td>\n",
       "      <td>2室1厅</td>\n",
       "      <td>57.09</td>\n",
       "      <td>8000</td>\n",
       "      <td>北京市东城区菊儿胡同</td>\n",
       "      <td>2室1厅</td>\n",
       "    </tr>\n",
       "    <tr>\n",
       "      <th>4</th>\n",
       "      <td>东城</td>\n",
       "      <td>1室1厅</td>\n",
       "      <td>42.67</td>\n",
       "      <td>5500</td>\n",
       "      <td>北京市东城区交道口北二条35号院</td>\n",
       "      <td>1室1厅</td>\n",
       "    </tr>\n",
       "  </tbody>\n",
       "</table>\n",
       "</div>"
      ],
      "text/plain": [
       "  行政区    户型  面积(㎡)  租金(元/月)                位置   户型1\n",
       "0  东城  1室0厅  59.11    10000     北京市东城区万国城MOMA  1室0厅\n",
       "1  东城  3室0厅  56.92     6000    北京市东城区北官厅胡同2号院    其他\n",
       "2  东城  1室1厅  40.57     6900       北京市东城区和平里三区  1室1厅\n",
       "3  东城  2室1厅  57.09     8000        北京市东城区菊儿胡同  2室1厅\n",
       "4  东城  1室1厅  42.67     5500  北京市东城区交道口北二条35号院  1室1厅"
      ]
     },
     "execution_count": 383,
     "metadata": {},
     "output_type": "execute_result"
    }
   ],
   "source": [
    "BJ.head()"
   ]
  },
  {
   "cell_type": "code",
   "execution_count": 384,
   "metadata": {},
   "outputs": [
    {
     "data": {
      "text/html": [
       "<div>\n",
       "<style scoped>\n",
       "    .dataframe tbody tr th:only-of-type {\n",
       "        vertical-align: middle;\n",
       "    }\n",
       "\n",
       "    .dataframe tbody tr th {\n",
       "        vertical-align: top;\n",
       "    }\n",
       "\n",
       "    .dataframe thead th {\n",
       "        text-align: right;\n",
       "    }\n",
       "</style>\n",
       "<table border=\"1\" class=\"dataframe\">\n",
       "  <thead>\n",
       "    <tr style=\"text-align: right;\">\n",
       "      <th></th>\n",
       "      <th>行政区</th>\n",
       "      <th>户型1</th>\n",
       "      <th>面积(㎡)</th>\n",
       "      <th>租金(元/月)</th>\n",
       "    </tr>\n",
       "  </thead>\n",
       "  <tbody>\n",
       "    <tr>\n",
       "      <th>0</th>\n",
       "      <td>东城</td>\n",
       "      <td>1室0厅</td>\n",
       "      <td>59.11</td>\n",
       "      <td>10000</td>\n",
       "    </tr>\n",
       "    <tr>\n",
       "      <th>1</th>\n",
       "      <td>东城</td>\n",
       "      <td>其他</td>\n",
       "      <td>56.92</td>\n",
       "      <td>6000</td>\n",
       "    </tr>\n",
       "    <tr>\n",
       "      <th>2</th>\n",
       "      <td>东城</td>\n",
       "      <td>1室1厅</td>\n",
       "      <td>40.57</td>\n",
       "      <td>6900</td>\n",
       "    </tr>\n",
       "    <tr>\n",
       "      <th>3</th>\n",
       "      <td>东城</td>\n",
       "      <td>2室1厅</td>\n",
       "      <td>57.09</td>\n",
       "      <td>8000</td>\n",
       "    </tr>\n",
       "    <tr>\n",
       "      <th>4</th>\n",
       "      <td>东城</td>\n",
       "      <td>1室1厅</td>\n",
       "      <td>42.67</td>\n",
       "      <td>5500</td>\n",
       "    </tr>\n",
       "  </tbody>\n",
       "</table>\n",
       "</div>"
      ],
      "text/plain": [
       "  行政区   户型1  面积(㎡)  租金(元/月)\n",
       "0  东城  1室0厅  59.11    10000\n",
       "1  东城    其他  56.92     6000\n",
       "2  东城  1室1厅  40.57     6900\n",
       "3  东城  2室1厅  57.09     8000\n",
       "4  东城  1室1厅  42.67     5500"
      ]
     },
     "execution_count": 384,
     "metadata": {},
     "output_type": "execute_result"
    }
   ],
   "source": [
    "# 提取出需要的列\n",
    "BJ=BJ[['行政区','户型1','面积(㎡)','租金(元/月)']]\n",
    "BJ.head()"
   ]
  },
  {
   "cell_type": "code",
   "execution_count": 385,
   "metadata": {},
   "outputs": [
    {
     "data": {
      "text/plain": [
       "2室1厅    2249\n",
       "1室1厅     844\n",
       "3室1厅     766\n",
       "3室2厅     489\n",
       "其他       280\n",
       "2室2厅     265\n",
       "1室0厅     244\n",
       "4室2厅     191\n",
       "1室1卫     126\n",
       "2室1卫     120\n",
       "3室1卫      92\n",
       "4室1厅      58\n",
       "5室2厅      49\n",
       "Name: 户型1, dtype: int64"
      ]
     },
     "execution_count": 385,
     "metadata": {},
     "output_type": "execute_result"
    }
   ],
   "source": [
    "typeBJ = BJ.户型1.value_counts().sort_values(ascending=False)\n",
    "typeBJ"
   ]
  },
  {
   "cell_type": "code",
   "execution_count": 386,
   "metadata": {},
   "outputs": [
    {
     "data": {
      "image/png": "[encoded data removed]",
      "text/plain": [
       "<Figure size 864x720 with 1 Axes>"
      ]
     },
     "metadata": {},
     "output_type": "display_data"
    }
   ],
   "source": [
    "plt.figure(figsize=(12,10))\n",
    "sns.barplot(x=typeBJ,y=typeBJ.index)\n",
    "plt.xlabel('户型')\n",
    "plt.ylabel('数量')\n",
    "plt.title('北京房型数量情况',fontsize=20,y=1.02)\n",
    "plt.savefig('北京房型数量情况.png')\n",
    "plt.show()"
   ]
  },
  {
   "cell_type": "code",
   "execution_count": 387,
   "metadata": {},
   "outputs": [
    {
     "data": {
      "text/plain": [
       "户型1\n",
       "5室2厅    31181.632653\n",
       "4室2厅    24561.256545\n",
       "其他      19237.378571\n",
       "4室1厅    18500.000000\n",
       "3室2厅    15322.290389\n",
       "Name: 租金(元/月), dtype: float64"
      ]
     },
     "execution_count": 387,
     "metadata": {},
     "output_type": "execute_result"
    }
   ],
   "source": [
    "typeBJ_money = BJ.groupby('户型1')['租金(元/月)'].mean().sort_values(ascending=False)\n",
    "typeBJ_money.head()"
   ]
  },
  {
   "cell_type": "code",
   "execution_count": 388,
   "metadata": {},
   "outputs": [
    {
     "data": {
      "text/plain": [
       "户型1\n",
       "5室2厅    29000\n",
       "4室2厅    21000\n",
       "4室1厅    15250\n",
       "3室2厅    13000\n",
       "其他      11000\n",
       "Name: 租金(元/月), dtype: int64"
      ]
     },
     "execution_count": 388,
     "metadata": {},
     "output_type": "execute_result"
    }
   ],
   "source": [
    "typeBJ_money_line = BJ.groupby('户型1')['租金(元/月)'].median().sort_values(ascending=False)\n",
    "typeBJ_money_line.head()"
   ]
  },
  {
   "cell_type": "code",
   "execution_count": 389,
   "metadata": {},
   "outputs": [
    {
     "data": {
      "image/png": "[encoded data removed]",
      "text/plain": [
       "<Figure size 864x720 with 1 Axes>"
      ]
     },
     "metadata": {},
     "output_type": "display_data"
    }
   ],
   "source": [
    "# 绘图，表示租金价格情况\n",
    "plt.figure(figsize=(12,10))\n",
    "sns.barplot(y=typeBJ_money ,x=typeBJ_money.index)\n",
    "sns.lineplot(y=typeBJ_money_line,x=typeBJ_money_line.index)\n",
    "plt.title('北京房型租金情况',fontsize=20,y=1.02)\n",
    "plt.savefig('北京房型租金情况.png')\n",
    "plt.show()"
   ]
  },
  {
   "cell_type": "markdown",
   "metadata": {},
   "source": [
    "## 租金与面积分析"
   ]
  },
  {
   "cell_type": "code",
   "execution_count": 390,
   "metadata": {},
   "outputs": [
    {
     "data": {
      "text/html": [
       "<div>\n",
       "<style scoped>\n",
       "    .dataframe tbody tr th:only-of-type {\n",
       "        vertical-align: middle;\n",
       "    }\n",
       "\n",
       "    .dataframe tbody tr th {\n",
       "        vertical-align: top;\n",
       "    }\n",
       "\n",
       "    .dataframe thead th {\n",
       "        text-align: right;\n",
       "    }\n",
       "</style>\n",
       "<table border=\"1\" class=\"dataframe\">\n",
       "  <thead>\n",
       "    <tr style=\"text-align: right;\">\n",
       "      <th></th>\n",
       "      <th>租金(元/月)</th>\n",
       "      <th>面积(㎡)</th>\n",
       "    </tr>\n",
       "  </thead>\n",
       "  <tbody>\n",
       "    <tr>\n",
       "      <th>租金(元/月)</th>\n",
       "      <td>1.000000</td>\n",
       "      <td>0.720814</td>\n",
       "    </tr>\n",
       "    <tr>\n",
       "      <th>面积(㎡)</th>\n",
       "      <td>0.720814</td>\n",
       "      <td>1.000000</td>\n",
       "    </tr>\n",
       "  </tbody>\n",
       "</table>\n",
       "</div>"
      ],
      "text/plain": [
       "          租金(元/月)     面积(㎡)\n",
       "租金(元/月)  1.000000  0.720814\n",
       "面积(㎡)    0.720814  1.000000"
      ]
     },
     "execution_count": 390,
     "metadata": {},
     "output_type": "execute_result"
    }
   ],
   "source": [
    "df_BJ=BJ[['租金(元/月)','面积(㎡)']].corr()\n",
    "df_BJ          # 正相关"
   ]
  },
  {
   "cell_type": "code",
   "execution_count": 391,
   "metadata": {},
   "outputs": [
    {
     "data": {
      "image/png": "[encoded data removed]",
      "text/plain": [
       "<Figure size 864x720 with 1 Axes>"
      ]
     },
     "metadata": {},
     "output_type": "display_data"
    }
   ],
   "source": [
    "plt.figure(figsize=(12,10))\n",
    "x=BJ[BJ['面积(㎡)']<700]['面积(㎡)']\n",
    "y=BJ[BJ['租金(元/月)']<100000]['租金(元/月)']\n",
    "sns.scatterplot(x=x,y=y,s=20)\n",
    "plt.xlabel('面积')\n",
    "plt.ylabel('租金')\n",
    "plt.title('北京房屋租金面积关系',fontsize=20)\n",
    "plt.savefig('北京房屋租金面积关系.png')\n",
    "plt.show()"
   ]
  },
  {
   "cell_type": "markdown",
   "metadata": {},
   "source": [
    "## 租金面积分箱"
   ]
  },
  {
   "cell_type": "code",
   "execution_count": 392,
   "metadata": {},
   "outputs": [
    {
     "data": {
      "text/html": [
       "<div>\n",
       "<style scoped>\n",
       "    .dataframe tbody tr th:only-of-type {\n",
       "        vertical-align: middle;\n",
       "    }\n",
       "\n",
       "    .dataframe tbody tr th {\n",
       "        vertical-align: top;\n",
       "    }\n",
       "\n",
       "    .dataframe thead th {\n",
       "        text-align: right;\n",
       "    }\n",
       "</style>\n",
       "<table border=\"1\" class=\"dataframe\">\n",
       "  <thead>\n",
       "    <tr style=\"text-align: right;\">\n",
       "      <th></th>\n",
       "      <th>租金(元/月)</th>\n",
       "      <th>面积(㎡)</th>\n",
       "    </tr>\n",
       "  </thead>\n",
       "  <tbody>\n",
       "    <tr>\n",
       "      <th>0</th>\n",
       "      <td>10000</td>\n",
       "      <td>59.11</td>\n",
       "    </tr>\n",
       "    <tr>\n",
       "      <th>1</th>\n",
       "      <td>6000</td>\n",
       "      <td>56.92</td>\n",
       "    </tr>\n",
       "    <tr>\n",
       "      <th>2</th>\n",
       "      <td>6900</td>\n",
       "      <td>40.57</td>\n",
       "    </tr>\n",
       "    <tr>\n",
       "      <th>3</th>\n",
       "      <td>8000</td>\n",
       "      <td>57.09</td>\n",
       "    </tr>\n",
       "    <tr>\n",
       "      <th>4</th>\n",
       "      <td>5500</td>\n",
       "      <td>42.67</td>\n",
       "    </tr>\n",
       "  </tbody>\n",
       "</table>\n",
       "</div>"
      ],
      "text/plain": [
       "   租金(元/月)  面积(㎡)\n",
       "0    10000  59.11\n",
       "1     6000  56.92\n",
       "2     6900  40.57\n",
       "3     8000  57.09\n",
       "4     5500  42.67"
      ]
     },
     "execution_count": 392,
     "metadata": {},
     "output_type": "execute_result"
    }
   ],
   "source": [
    "df_BJ1=BJ[['租金(元/月)','面积(㎡)']]\n",
    "df_BJ1.head()"
   ]
  },
  {
   "cell_type": "code",
   "execution_count": 393,
   "metadata": {},
   "outputs": [
    {
     "data": {
      "text/plain": [
       "租金(元/月)    95000.00\n",
       "面积(㎡)        682.08\n",
       "dtype: float64"
      ]
     },
     "execution_count": 393,
     "metadata": {},
     "output_type": "execute_result"
    }
   ],
   "source": [
    "# 筛选隔离离群值\n",
    "df_BJ1=df_BJ1[df_BJ1['租金(元/月)']<100000]\n",
    "df_BJ1=df_BJ1[df_BJ1['面积(㎡)']<700]\n",
    "df_BJ1.max()"
   ]
  },
  {
   "cell_type": "code",
   "execution_count": 394,
   "metadata": {},
   "outputs": [],
   "source": [
    "# 分箱\n",
    "df_BJ1['面积分布']=pd.cut(df_BJ1['面积(㎡)'],bins=[10,30,50,70,90,120,150,300,700])\n",
    "df_BJ1['租金分布']=pd.cut(df_BJ1['租金(元/月)'],bins=[1000,2500,4000,5500,7000,8500,10000,12000,15000,35000,100000])"
   ]
  },
  {
   "cell_type": "code",
   "execution_count": 395,
   "metadata": {},
   "outputs": [
    {
     "data": {
      "text/html": [
       "<div>\n",
       "<style scoped>\n",
       "    .dataframe tbody tr th:only-of-type {\n",
       "        vertical-align: middle;\n",
       "    }\n",
       "\n",
       "    .dataframe tbody tr th {\n",
       "        vertical-align: top;\n",
       "    }\n",
       "\n",
       "    .dataframe thead th {\n",
       "        text-align: right;\n",
       "    }\n",
       "</style>\n",
       "<table border=\"1\" class=\"dataframe\">\n",
       "  <thead>\n",
       "    <tr style=\"text-align: right;\">\n",
       "      <th></th>\n",
       "      <th>租金(元/月)</th>\n",
       "      <th>面积(㎡)</th>\n",
       "      <th>面积分布</th>\n",
       "      <th>租金分布</th>\n",
       "    </tr>\n",
       "  </thead>\n",
       "  <tbody>\n",
       "    <tr>\n",
       "      <th>0</th>\n",
       "      <td>10000</td>\n",
       "      <td>59.11</td>\n",
       "      <td>(50, 70]</td>\n",
       "      <td>(8500, 10000]</td>\n",
       "    </tr>\n",
       "    <tr>\n",
       "      <th>1</th>\n",
       "      <td>6000</td>\n",
       "      <td>56.92</td>\n",
       "      <td>(50, 70]</td>\n",
       "      <td>(5500, 7000]</td>\n",
       "    </tr>\n",
       "    <tr>\n",
       "      <th>2</th>\n",
       "      <td>6900</td>\n",
       "      <td>40.57</td>\n",
       "      <td>(30, 50]</td>\n",
       "      <td>(5500, 7000]</td>\n",
       "    </tr>\n",
       "    <tr>\n",
       "      <th>3</th>\n",
       "      <td>8000</td>\n",
       "      <td>57.09</td>\n",
       "      <td>(50, 70]</td>\n",
       "      <td>(7000, 8500]</td>\n",
       "    </tr>\n",
       "    <tr>\n",
       "      <th>4</th>\n",
       "      <td>5500</td>\n",
       "      <td>42.67</td>\n",
       "      <td>(30, 50]</td>\n",
       "      <td>(4000, 5500]</td>\n",
       "    </tr>\n",
       "  </tbody>\n",
       "</table>\n",
       "</div>"
      ],
      "text/plain": [
       "   租金(元/月)  面积(㎡)      面积分布           租金分布\n",
       "0    10000  59.11  (50, 70]  (8500, 10000]\n",
       "1     6000  56.92  (50, 70]   (5500, 7000]\n",
       "2     6900  40.57  (30, 50]   (5500, 7000]\n",
       "3     8000  57.09  (50, 70]   (7000, 8500]\n",
       "4     5500  42.67  (30, 50]   (4000, 5500]"
      ]
     },
     "execution_count": 395,
     "metadata": {},
     "output_type": "execute_result"
    }
   ],
   "source": [
    "df_BJ1.head()"
   ]
  },
  {
   "cell_type": "code",
   "execution_count": 396,
   "metadata": {},
   "outputs": [
    {
     "data": {
      "image/png": "[encoded data removed]",
      "text/plain": [
       "<Figure size 864x720 with 1 Axes>"
      ]
     },
     "metadata": {},
     "output_type": "display_data"
    }
   ],
   "source": [
    "# 绘制饼图\n",
    "plt.figure(figsize=(12,10))\n",
    "data=df_BJ1.面积分布.value_counts()\n",
    "plt.pie(data,\n",
    "        labels=data.index.categories,\n",
    "        autopct='%.1f%%'\n",
    ")\n",
    "plt.title('北京房屋面积分布',fontsize=20)\n",
    "plt.savefig('北京房屋面积分布.png')\n",
    "plt.show()"
   ]
  },
  {
   "cell_type": "code",
   "execution_count": 397,
   "metadata": {},
   "outputs": [
    {
     "data": {
      "image/png": "[encoded data removed]",
      "text/plain": [
       "<Figure size 864x720 with 1 Axes>"
      ]
     },
     "metadata": {},
     "output_type": "display_data"
    }
   ],
   "source": [
    "# 绘制饼图\n",
    "plt.figure(figsize=(12,10))\n",
    "data=df_BJ1.租金分布.value_counts()\n",
    "plt.pie(data,\n",
    "        labels=data.index.categories,\n",
    "        autopct='%.1f%%'\n",
    ")\n",
    "plt.title('北京房屋租金分布',fontsize=20)\n",
    "plt.savefig('北京房屋租金分布.png')\n",
    "plt.show()"
   ]
  },
  {
   "cell_type": "code",
   "execution_count": null,
   "metadata": {},
   "outputs": [],
   "source": []
  },
  {
   "cell_type": "markdown",
   "metadata": {},
   "source": [
    "## 建立回归模型"
   ]
  },
  {
   "cell_type": "code",
   "execution_count": 398,
   "metadata": {},
   "outputs": [],
   "source": [
    "# 数据处理\n",
    "BJ=BJ[BJ['租金(元/月)']<100000]\n",
    "BJ=BJ[BJ['面积(㎡)']<700]\n",
    "BJ['面积分布']=pd.cut(BJ['面积(㎡)'],bins=[10,30,50,70,90,120,150,300,700])\n",
    "BJ['租金分布']=pd.cut(BJ['租金(元/月)'],bins=[1000,2500,4000,5500,7000,8500,10000,12000,15000,35000,100000])"
   ]
  },
  {
   "cell_type": "code",
   "execution_count": null,
   "metadata": {},
   "outputs": [],
   "source": []
  },
  {
   "cell_type": "code",
   "execution_count": 399,
   "metadata": {},
   "outputs": [
    {
     "data": {
      "text/html": [
       "<div>\n",
       "<style scoped>\n",
       "    .dataframe tbody tr th:only-of-type {\n",
       "        vertical-align: middle;\n",
       "    }\n",
       "\n",
       "    .dataframe tbody tr th {\n",
       "        vertical-align: top;\n",
       "    }\n",
       "\n",
       "    .dataframe thead th {\n",
       "        text-align: right;\n",
       "    }\n",
       "</style>\n",
       "<table border=\"1\" class=\"dataframe\">\n",
       "  <thead>\n",
       "    <tr style=\"text-align: right;\">\n",
       "      <th></th>\n",
       "      <th>大区_东城</th>\n",
       "      <th>大区_丰台</th>\n",
       "      <th>大区_亦庄开发区</th>\n",
       "      <th>大区_大兴</th>\n",
       "      <th>大区_房山</th>\n",
       "      <th>大区_昌平</th>\n",
       "      <th>大区_朝阳</th>\n",
       "      <th>大区_海淀</th>\n",
       "      <th>大区_石景山</th>\n",
       "      <th>大区_西城</th>\n",
       "      <th>大区_通州</th>\n",
       "      <th>大区_门头沟</th>\n",
       "      <th>大区_顺义</th>\n",
       "    </tr>\n",
       "  </thead>\n",
       "  <tbody>\n",
       "    <tr>\n",
       "      <th>0</th>\n",
       "      <td>1</td>\n",
       "      <td>0</td>\n",
       "      <td>0</td>\n",
       "      <td>0</td>\n",
       "      <td>0</td>\n",
       "      <td>0</td>\n",
       "      <td>0</td>\n",
       "      <td>0</td>\n",
       "      <td>0</td>\n",
       "      <td>0</td>\n",
       "      <td>0</td>\n",
       "      <td>0</td>\n",
       "      <td>0</td>\n",
       "    </tr>\n",
       "    <tr>\n",
       "      <th>1</th>\n",
       "      <td>1</td>\n",
       "      <td>0</td>\n",
       "      <td>0</td>\n",
       "      <td>0</td>\n",
       "      <td>0</td>\n",
       "      <td>0</td>\n",
       "      <td>0</td>\n",
       "      <td>0</td>\n",
       "      <td>0</td>\n",
       "      <td>0</td>\n",
       "      <td>0</td>\n",
       "      <td>0</td>\n",
       "      <td>0</td>\n",
       "    </tr>\n",
       "    <tr>\n",
       "      <th>2</th>\n",
       "      <td>1</td>\n",
       "      <td>0</td>\n",
       "      <td>0</td>\n",
       "      <td>0</td>\n",
       "      <td>0</td>\n",
       "      <td>0</td>\n",
       "      <td>0</td>\n",
       "      <td>0</td>\n",
       "      <td>0</td>\n",
       "      <td>0</td>\n",
       "      <td>0</td>\n",
       "      <td>0</td>\n",
       "      <td>0</td>\n",
       "    </tr>\n",
       "    <tr>\n",
       "      <th>3</th>\n",
       "      <td>1</td>\n",
       "      <td>0</td>\n",
       "      <td>0</td>\n",
       "      <td>0</td>\n",
       "      <td>0</td>\n",
       "      <td>0</td>\n",
       "      <td>0</td>\n",
       "      <td>0</td>\n",
       "      <td>0</td>\n",
       "      <td>0</td>\n",
       "      <td>0</td>\n",
       "      <td>0</td>\n",
       "      <td>0</td>\n",
       "    </tr>\n",
       "    <tr>\n",
       "      <th>4</th>\n",
       "      <td>1</td>\n",
       "      <td>0</td>\n",
       "      <td>0</td>\n",
       "      <td>0</td>\n",
       "      <td>0</td>\n",
       "      <td>0</td>\n",
       "      <td>0</td>\n",
       "      <td>0</td>\n",
       "      <td>0</td>\n",
       "      <td>0</td>\n",
       "      <td>0</td>\n",
       "      <td>0</td>\n",
       "      <td>0</td>\n",
       "    </tr>\n",
       "  </tbody>\n",
       "</table>\n",
       "</div>"
      ],
      "text/plain": [
       "   大区_东城  大区_丰台  大区_亦庄开发区  大区_大兴  大区_房山  大区_昌平  大区_朝阳  大区_海淀  大区_石景山  大区_西城  \\\n",
       "0      1      0         0      0      0      0      0      0       0      0   \n",
       "1      1      0         0      0      0      0      0      0       0      0   \n",
       "2      1      0         0      0      0      0      0      0       0      0   \n",
       "3      1      0         0      0      0      0      0      0       0      0   \n",
       "4      1      0         0      0      0      0      0      0       0      0   \n",
       "\n",
       "   大区_通州  大区_门头沟  大区_顺义  \n",
       "0      0       0      0  \n",
       "1      0       0      0  \n",
       "2      0       0      0  \n",
       "3      0       0      0  \n",
       "4      0       0      0  "
      ]
     },
     "execution_count": 399,
     "metadata": {},
     "output_type": "execute_result"
    }
   ],
   "source": [
    "# 对分类变量独热编码\n",
    "area_onehot=pd.get_dummies(BJ.行政区,prefix='大区')\n",
    "area_onehot.head()"
   ]
  },
  {
   "cell_type": "code",
   "execution_count": 400,
   "metadata": {},
   "outputs": [
    {
     "data": {
      "text/html": [
       "<div>\n",
       "<style scoped>\n",
       "    .dataframe tbody tr th:only-of-type {\n",
       "        vertical-align: middle;\n",
       "    }\n",
       "\n",
       "    .dataframe tbody tr th {\n",
       "        vertical-align: top;\n",
       "    }\n",
       "\n",
       "    .dataframe thead th {\n",
       "        text-align: right;\n",
       "    }\n",
       "</style>\n",
       "<table border=\"1\" class=\"dataframe\">\n",
       "  <thead>\n",
       "    <tr style=\"text-align: right;\">\n",
       "      <th></th>\n",
       "      <th>户型_1室0厅</th>\n",
       "      <th>户型_1室1卫</th>\n",
       "      <th>户型_1室1厅</th>\n",
       "      <th>户型_2室1卫</th>\n",
       "      <th>户型_2室1厅</th>\n",
       "      <th>户型_2室2厅</th>\n",
       "      <th>户型_3室1卫</th>\n",
       "      <th>户型_3室1厅</th>\n",
       "      <th>户型_3室2厅</th>\n",
       "      <th>户型_4室1厅</th>\n",
       "      <th>户型_4室2厅</th>\n",
       "      <th>户型_5室2厅</th>\n",
       "      <th>户型_其他</th>\n",
       "    </tr>\n",
       "  </thead>\n",
       "  <tbody>\n",
       "    <tr>\n",
       "      <th>0</th>\n",
       "      <td>1</td>\n",
       "      <td>0</td>\n",
       "      <td>0</td>\n",
       "      <td>0</td>\n",
       "      <td>0</td>\n",
       "      <td>0</td>\n",
       "      <td>0</td>\n",
       "      <td>0</td>\n",
       "      <td>0</td>\n",
       "      <td>0</td>\n",
       "      <td>0</td>\n",
       "      <td>0</td>\n",
       "      <td>0</td>\n",
       "    </tr>\n",
       "    <tr>\n",
       "      <th>1</th>\n",
       "      <td>0</td>\n",
       "      <td>0</td>\n",
       "      <td>0</td>\n",
       "      <td>0</td>\n",
       "      <td>0</td>\n",
       "      <td>0</td>\n",
       "      <td>0</td>\n",
       "      <td>0</td>\n",
       "      <td>0</td>\n",
       "      <td>0</td>\n",
       "      <td>0</td>\n",
       "      <td>0</td>\n",
       "      <td>1</td>\n",
       "    </tr>\n",
       "    <tr>\n",
       "      <th>2</th>\n",
       "      <td>0</td>\n",
       "      <td>0</td>\n",
       "      <td>1</td>\n",
       "      <td>0</td>\n",
       "      <td>0</td>\n",
       "      <td>0</td>\n",
       "      <td>0</td>\n",
       "      <td>0</td>\n",
       "      <td>0</td>\n",
       "      <td>0</td>\n",
       "      <td>0</td>\n",
       "      <td>0</td>\n",
       "      <td>0</td>\n",
       "    </tr>\n",
       "    <tr>\n",
       "      <th>3</th>\n",
       "      <td>0</td>\n",
       "      <td>0</td>\n",
       "      <td>0</td>\n",
       "      <td>0</td>\n",
       "      <td>1</td>\n",
       "      <td>0</td>\n",
       "      <td>0</td>\n",
       "      <td>0</td>\n",
       "      <td>0</td>\n",
       "      <td>0</td>\n",
       "      <td>0</td>\n",
       "      <td>0</td>\n",
       "      <td>0</td>\n",
       "    </tr>\n",
       "    <tr>\n",
       "      <th>4</th>\n",
       "      <td>0</td>\n",
       "      <td>0</td>\n",
       "      <td>1</td>\n",
       "      <td>0</td>\n",
       "      <td>0</td>\n",
       "      <td>0</td>\n",
       "      <td>0</td>\n",
       "      <td>0</td>\n",
       "      <td>0</td>\n",
       "      <td>0</td>\n",
       "      <td>0</td>\n",
       "      <td>0</td>\n",
       "      <td>0</td>\n",
       "    </tr>\n",
       "  </tbody>\n",
       "</table>\n",
       "</div>"
      ],
      "text/plain": [
       "   户型_1室0厅  户型_1室1卫  户型_1室1厅  户型_2室1卫  户型_2室1厅  户型_2室2厅  户型_3室1卫  户型_3室1厅  \\\n",
       "0        1        0        0        0        0        0        0        0   \n",
       "1        0        0        0        0        0        0        0        0   \n",
       "2        0        0        1        0        0        0        0        0   \n",
       "3        0        0        0        0        1        0        0        0   \n",
       "4        0        0        1        0        0        0        0        0   \n",
       "\n",
       "   户型_3室2厅  户型_4室1厅  户型_4室2厅  户型_5室2厅  户型_其他  \n",
       "0        0        0        0        0      0  \n",
       "1        0        0        0        0      1  \n",
       "2        0        0        0        0      0  \n",
       "3        0        0        0        0      0  \n",
       "4        0        0        0        0      0  "
      ]
     },
     "execution_count": 400,
     "metadata": {},
     "output_type": "execute_result"
    }
   ],
   "source": [
    "type_onehot=pd.get_dummies(BJ.户型1,prefix='户型')\n",
    "type_onehot.head()"
   ]
  },
  {
   "cell_type": "code",
   "execution_count": null,
   "metadata": {},
   "outputs": [],
   "source": []
  },
  {
   "cell_type": "code",
   "execution_count": 401,
   "metadata": {},
   "outputs": [
    {
     "data": {
      "text/html": [
       "<div>\n",
       "<style scoped>\n",
       "    .dataframe tbody tr th:only-of-type {\n",
       "        vertical-align: middle;\n",
       "    }\n",
       "\n",
       "    .dataframe tbody tr th {\n",
       "        vertical-align: top;\n",
       "    }\n",
       "\n",
       "    .dataframe thead th {\n",
       "        text-align: right;\n",
       "    }\n",
       "</style>\n",
       "<table border=\"1\" class=\"dataframe\">\n",
       "  <thead>\n",
       "    <tr style=\"text-align: right;\">\n",
       "      <th></th>\n",
       "      <th>租金(元/月)</th>\n",
       "      <th>面积(㎡)</th>\n",
       "      <th>大区_东城</th>\n",
       "      <th>大区_丰台</th>\n",
       "      <th>大区_亦庄开发区</th>\n",
       "      <th>大区_大兴</th>\n",
       "      <th>大区_房山</th>\n",
       "      <th>大区_昌平</th>\n",
       "      <th>大区_朝阳</th>\n",
       "      <th>大区_海淀</th>\n",
       "      <th>...</th>\n",
       "      <th>户型_2室1卫</th>\n",
       "      <th>户型_2室1厅</th>\n",
       "      <th>户型_2室2厅</th>\n",
       "      <th>户型_3室1卫</th>\n",
       "      <th>户型_3室1厅</th>\n",
       "      <th>户型_3室2厅</th>\n",
       "      <th>户型_4室1厅</th>\n",
       "      <th>户型_4室2厅</th>\n",
       "      <th>户型_5室2厅</th>\n",
       "      <th>户型_其他</th>\n",
       "    </tr>\n",
       "  </thead>\n",
       "  <tbody>\n",
       "    <tr>\n",
       "      <th>0</th>\n",
       "      <td>10000</td>\n",
       "      <td>59.11</td>\n",
       "      <td>1</td>\n",
       "      <td>0</td>\n",
       "      <td>0</td>\n",
       "      <td>0</td>\n",
       "      <td>0</td>\n",
       "      <td>0</td>\n",
       "      <td>0</td>\n",
       "      <td>0</td>\n",
       "      <td>...</td>\n",
       "      <td>0</td>\n",
       "      <td>0</td>\n",
       "      <td>0</td>\n",
       "      <td>0</td>\n",
       "      <td>0</td>\n",
       "      <td>0</td>\n",
       "      <td>0</td>\n",
       "      <td>0</td>\n",
       "      <td>0</td>\n",
       "      <td>0</td>\n",
       "    </tr>\n",
       "    <tr>\n",
       "      <th>1</th>\n",
       "      <td>6000</td>\n",
       "      <td>56.92</td>\n",
       "      <td>1</td>\n",
       "      <td>0</td>\n",
       "      <td>0</td>\n",
       "      <td>0</td>\n",
       "      <td>0</td>\n",
       "      <td>0</td>\n",
       "      <td>0</td>\n",
       "      <td>0</td>\n",
       "      <td>...</td>\n",
       "      <td>0</td>\n",
       "      <td>0</td>\n",
       "      <td>0</td>\n",
       "      <td>0</td>\n",
       "      <td>0</td>\n",
       "      <td>0</td>\n",
       "      <td>0</td>\n",
       "      <td>0</td>\n",
       "      <td>0</td>\n",
       "      <td>1</td>\n",
       "    </tr>\n",
       "    <tr>\n",
       "      <th>2</th>\n",
       "      <td>6900</td>\n",
       "      <td>40.57</td>\n",
       "      <td>1</td>\n",
       "      <td>0</td>\n",
       "      <td>0</td>\n",
       "      <td>0</td>\n",
       "      <td>0</td>\n",
       "      <td>0</td>\n",
       "      <td>0</td>\n",
       "      <td>0</td>\n",
       "      <td>...</td>\n",
       "      <td>0</td>\n",
       "      <td>0</td>\n",
       "      <td>0</td>\n",
       "      <td>0</td>\n",
       "      <td>0</td>\n",
       "      <td>0</td>\n",
       "      <td>0</td>\n",
       "      <td>0</td>\n",
       "      <td>0</td>\n",
       "      <td>0</td>\n",
       "    </tr>\n",
       "    <tr>\n",
       "      <th>3</th>\n",
       "      <td>8000</td>\n",
       "      <td>57.09</td>\n",
       "      <td>1</td>\n",
       "      <td>0</td>\n",
       "      <td>0</td>\n",
       "      <td>0</td>\n",
       "      <td>0</td>\n",
       "      <td>0</td>\n",
       "      <td>0</td>\n",
       "      <td>0</td>\n",
       "      <td>...</td>\n",
       "      <td>0</td>\n",
       "      <td>1</td>\n",
       "      <td>0</td>\n",
       "      <td>0</td>\n",
       "      <td>0</td>\n",
       "      <td>0</td>\n",
       "      <td>0</td>\n",
       "      <td>0</td>\n",
       "      <td>0</td>\n",
       "      <td>0</td>\n",
       "    </tr>\n",
       "    <tr>\n",
       "      <th>4</th>\n",
       "      <td>5500</td>\n",
       "      <td>42.67</td>\n",
       "      <td>1</td>\n",
       "      <td>0</td>\n",
       "      <td>0</td>\n",
       "      <td>0</td>\n",
       "      <td>0</td>\n",
       "      <td>0</td>\n",
       "      <td>0</td>\n",
       "      <td>0</td>\n",
       "      <td>...</td>\n",
       "      <td>0</td>\n",
       "      <td>0</td>\n",
       "      <td>0</td>\n",
       "      <td>0</td>\n",
       "      <td>0</td>\n",
       "      <td>0</td>\n",
       "      <td>0</td>\n",
       "      <td>0</td>\n",
       "      <td>0</td>\n",
       "      <td>0</td>\n",
       "    </tr>\n",
       "  </tbody>\n",
       "</table>\n",
       "<p>5 rows × 28 columns</p>\n",
       "</div>"
      ],
      "text/plain": [
       "   租金(元/月)  面积(㎡)  大区_东城  大区_丰台  大区_亦庄开发区  大区_大兴  大区_房山  大区_昌平  大区_朝阳  大区_海淀  \\\n",
       "0    10000  59.11      1      0         0      0      0      0      0      0   \n",
       "1     6000  56.92      1      0         0      0      0      0      0      0   \n",
       "2     6900  40.57      1      0         0      0      0      0      0      0   \n",
       "3     8000  57.09      1      0         0      0      0      0      0      0   \n",
       "4     5500  42.67      1      0         0      0      0      0      0      0   \n",
       "\n",
       "   ...  户型_2室1卫  户型_2室1厅  户型_2室2厅  户型_3室1卫  户型_3室1厅  户型_3室2厅  户型_4室1厅  \\\n",
       "0  ...        0        0        0        0        0        0        0   \n",
       "1  ...        0        0        0        0        0        0        0   \n",
       "2  ...        0        0        0        0        0        0        0   \n",
       "3  ...        0        1        0        0        0        0        0   \n",
       "4  ...        0        0        0        0        0        0        0   \n",
       "\n",
       "   户型_4室2厅  户型_5室2厅  户型_其他  \n",
       "0        0        0      0  \n",
       "1        0        0      1  \n",
       "2        0        0      0  \n",
       "3        0        0      0  \n",
       "4        0        0      0  \n",
       "\n",
       "[5 rows x 28 columns]"
      ]
     },
     "execution_count": 401,
     "metadata": {},
     "output_type": "execute_result"
    }
   ],
   "source": [
    "# 连接需要的数据\n",
    "Data=pd.concat([BJ[['租金(元/月)','面积(㎡)']],area_onehot,type_onehot],axis=1)\n",
    "Data.head()"
   ]
  },
  {
   "cell_type": "code",
   "execution_count": 402,
   "metadata": {},
   "outputs": [],
   "source": [
    "Data.to_csv('data/BJ_data.csv')"
   ]
  },
  {
   "cell_type": "code",
   "execution_count": 405,
   "metadata": {},
   "outputs": [
    {
     "data": {
      "text/html": [
       "<div>\n",
       "<style scoped>\n",
       "    .dataframe tbody tr th:only-of-type {\n",
       "        vertical-align: middle;\n",
       "    }\n",
       "\n",
       "    .dataframe tbody tr th {\n",
       "        vertical-align: top;\n",
       "    }\n",
       "\n",
       "    .dataframe thead th {\n",
       "        text-align: right;\n",
       "    }\n",
       "</style>\n",
       "<table border=\"1\" class=\"dataframe\">\n",
       "  <thead>\n",
       "    <tr style=\"text-align: right;\">\n",
       "      <th></th>\n",
       "      <th>Unnamed: 0</th>\n",
       "      <th>租金(元/月)</th>\n",
       "      <th>面积(㎡)</th>\n",
       "      <th>大区_东城</th>\n",
       "      <th>大区_丰台</th>\n",
       "      <th>大区_亦庄开发区</th>\n",
       "      <th>大区_大兴</th>\n",
       "      <th>大区_房山</th>\n",
       "      <th>大区_昌平</th>\n",
       "      <th>大区_朝阳</th>\n",
       "      <th>...</th>\n",
       "      <th>户型_2室1卫</th>\n",
       "      <th>户型_2室1厅</th>\n",
       "      <th>户型_2室2厅</th>\n",
       "      <th>户型_3室1卫</th>\n",
       "      <th>户型_3室1厅</th>\n",
       "      <th>户型_3室2厅</th>\n",
       "      <th>户型_4室1厅</th>\n",
       "      <th>户型_4室2厅</th>\n",
       "      <th>户型_5室2厅</th>\n",
       "      <th>户型_其他</th>\n",
       "    </tr>\n",
       "  </thead>\n",
       "  <tbody>\n",
       "    <tr>\n",
       "      <th>0</th>\n",
       "      <td>0</td>\n",
       "      <td>10000</td>\n",
       "      <td>59.11</td>\n",
       "      <td>1</td>\n",
       "      <td>0</td>\n",
       "      <td>0</td>\n",
       "      <td>0</td>\n",
       "      <td>0</td>\n",
       "      <td>0</td>\n",
       "      <td>0</td>\n",
       "      <td>...</td>\n",
       "      <td>0</td>\n",
       "      <td>0</td>\n",
       "      <td>0</td>\n",
       "      <td>0</td>\n",
       "      <td>0</td>\n",
       "      <td>0</td>\n",
       "      <td>0</td>\n",
       "      <td>0</td>\n",
       "      <td>0</td>\n",
       "      <td>0</td>\n",
       "    </tr>\n",
       "    <tr>\n",
       "      <th>1</th>\n",
       "      <td>1</td>\n",
       "      <td>6000</td>\n",
       "      <td>56.92</td>\n",
       "      <td>1</td>\n",
       "      <td>0</td>\n",
       "      <td>0</td>\n",
       "      <td>0</td>\n",
       "      <td>0</td>\n",
       "      <td>0</td>\n",
       "      <td>0</td>\n",
       "      <td>...</td>\n",
       "      <td>0</td>\n",
       "      <td>0</td>\n",
       "      <td>0</td>\n",
       "      <td>0</td>\n",
       "      <td>0</td>\n",
       "      <td>0</td>\n",
       "      <td>0</td>\n",
       "      <td>0</td>\n",
       "      <td>0</td>\n",
       "      <td>1</td>\n",
       "    </tr>\n",
       "    <tr>\n",
       "      <th>2</th>\n",
       "      <td>2</td>\n",
       "      <td>6900</td>\n",
       "      <td>40.57</td>\n",
       "      <td>1</td>\n",
       "      <td>0</td>\n",
       "      <td>0</td>\n",
       "      <td>0</td>\n",
       "      <td>0</td>\n",
       "      <td>0</td>\n",
       "      <td>0</td>\n",
       "      <td>...</td>\n",
       "      <td>0</td>\n",
       "      <td>0</td>\n",
       "      <td>0</td>\n",
       "      <td>0</td>\n",
       "      <td>0</td>\n",
       "      <td>0</td>\n",
       "      <td>0</td>\n",
       "      <td>0</td>\n",
       "      <td>0</td>\n",
       "      <td>0</td>\n",
       "    </tr>\n",
       "    <tr>\n",
       "      <th>3</th>\n",
       "      <td>3</td>\n",
       "      <td>8000</td>\n",
       "      <td>57.09</td>\n",
       "      <td>1</td>\n",
       "      <td>0</td>\n",
       "      <td>0</td>\n",
       "      <td>0</td>\n",
       "      <td>0</td>\n",
       "      <td>0</td>\n",
       "      <td>0</td>\n",
       "      <td>...</td>\n",
       "      <td>0</td>\n",
       "      <td>1</td>\n",
       "      <td>0</td>\n",
       "      <td>0</td>\n",
       "      <td>0</td>\n",
       "      <td>0</td>\n",
       "      <td>0</td>\n",
       "      <td>0</td>\n",
       "      <td>0</td>\n",
       "      <td>0</td>\n",
       "    </tr>\n",
       "    <tr>\n",
       "      <th>4</th>\n",
       "      <td>4</td>\n",
       "      <td>5500</td>\n",
       "      <td>42.67</td>\n",
       "      <td>1</td>\n",
       "      <td>0</td>\n",
       "      <td>0</td>\n",
       "      <td>0</td>\n",
       "      <td>0</td>\n",
       "      <td>0</td>\n",
       "      <td>0</td>\n",
       "      <td>...</td>\n",
       "      <td>0</td>\n",
       "      <td>0</td>\n",
       "      <td>0</td>\n",
       "      <td>0</td>\n",
       "      <td>0</td>\n",
       "      <td>0</td>\n",
       "      <td>0</td>\n",
       "      <td>0</td>\n",
       "      <td>0</td>\n",
       "      <td>0</td>\n",
       "    </tr>\n",
       "    <tr>\n",
       "      <th>...</th>\n",
       "      <td>...</td>\n",
       "      <td>...</td>\n",
       "      <td>...</td>\n",
       "      <td>...</td>\n",
       "      <td>...</td>\n",
       "      <td>...</td>\n",
       "      <td>...</td>\n",
       "      <td>...</td>\n",
       "      <td>...</td>\n",
       "      <td>...</td>\n",
       "      <td>...</td>\n",
       "      <td>...</td>\n",
       "      <td>...</td>\n",
       "      <td>...</td>\n",
       "      <td>...</td>\n",
       "      <td>...</td>\n",
       "      <td>...</td>\n",
       "      <td>...</td>\n",
       "      <td>...</td>\n",
       "      <td>...</td>\n",
       "      <td>...</td>\n",
       "    </tr>\n",
       "    <tr>\n",
       "      <th>5760</th>\n",
       "      <td>5768</td>\n",
       "      <td>5500</td>\n",
       "      <td>114.03</td>\n",
       "      <td>0</td>\n",
       "      <td>0</td>\n",
       "      <td>0</td>\n",
       "      <td>0</td>\n",
       "      <td>0</td>\n",
       "      <td>0</td>\n",
       "      <td>0</td>\n",
       "      <td>...</td>\n",
       "      <td>0</td>\n",
       "      <td>0</td>\n",
       "      <td>0</td>\n",
       "      <td>0</td>\n",
       "      <td>1</td>\n",
       "      <td>0</td>\n",
       "      <td>0</td>\n",
       "      <td>0</td>\n",
       "      <td>0</td>\n",
       "      <td>0</td>\n",
       "    </tr>\n",
       "    <tr>\n",
       "      <th>5761</th>\n",
       "      <td>5769</td>\n",
       "      <td>5000</td>\n",
       "      <td>59.00</td>\n",
       "      <td>0</td>\n",
       "      <td>0</td>\n",
       "      <td>0</td>\n",
       "      <td>0</td>\n",
       "      <td>0</td>\n",
       "      <td>0</td>\n",
       "      <td>0</td>\n",
       "      <td>...</td>\n",
       "      <td>0</td>\n",
       "      <td>0</td>\n",
       "      <td>0</td>\n",
       "      <td>0</td>\n",
       "      <td>0</td>\n",
       "      <td>0</td>\n",
       "      <td>0</td>\n",
       "      <td>0</td>\n",
       "      <td>0</td>\n",
       "      <td>1</td>\n",
       "    </tr>\n",
       "    <tr>\n",
       "      <th>5762</th>\n",
       "      <td>5770</td>\n",
       "      <td>5800</td>\n",
       "      <td>92.41</td>\n",
       "      <td>0</td>\n",
       "      <td>0</td>\n",
       "      <td>0</td>\n",
       "      <td>0</td>\n",
       "      <td>0</td>\n",
       "      <td>0</td>\n",
       "      <td>0</td>\n",
       "      <td>...</td>\n",
       "      <td>0</td>\n",
       "      <td>0</td>\n",
       "      <td>0</td>\n",
       "      <td>0</td>\n",
       "      <td>1</td>\n",
       "      <td>0</td>\n",
       "      <td>0</td>\n",
       "      <td>0</td>\n",
       "      <td>0</td>\n",
       "      <td>0</td>\n",
       "    </tr>\n",
       "    <tr>\n",
       "      <th>5763</th>\n",
       "      <td>5771</td>\n",
       "      <td>4200</td>\n",
       "      <td>71.81</td>\n",
       "      <td>0</td>\n",
       "      <td>0</td>\n",
       "      <td>0</td>\n",
       "      <td>0</td>\n",
       "      <td>0</td>\n",
       "      <td>0</td>\n",
       "      <td>0</td>\n",
       "      <td>...</td>\n",
       "      <td>0</td>\n",
       "      <td>1</td>\n",
       "      <td>0</td>\n",
       "      <td>0</td>\n",
       "      <td>0</td>\n",
       "      <td>0</td>\n",
       "      <td>0</td>\n",
       "      <td>0</td>\n",
       "      <td>0</td>\n",
       "      <td>0</td>\n",
       "    </tr>\n",
       "    <tr>\n",
       "      <th>5764</th>\n",
       "      <td>5772</td>\n",
       "      <td>2700</td>\n",
       "      <td>35.43</td>\n",
       "      <td>0</td>\n",
       "      <td>0</td>\n",
       "      <td>0</td>\n",
       "      <td>0</td>\n",
       "      <td>0</td>\n",
       "      <td>0</td>\n",
       "      <td>0</td>\n",
       "      <td>...</td>\n",
       "      <td>0</td>\n",
       "      <td>0</td>\n",
       "      <td>0</td>\n",
       "      <td>0</td>\n",
       "      <td>0</td>\n",
       "      <td>0</td>\n",
       "      <td>0</td>\n",
       "      <td>0</td>\n",
       "      <td>0</td>\n",
       "      <td>0</td>\n",
       "    </tr>\n",
       "  </tbody>\n",
       "</table>\n",
       "<p>5765 rows × 29 columns</p>\n",
       "</div>"
      ],
      "text/plain": [
       "      Unnamed: 0  租金(元/月)   面积(㎡)  大区_东城  大区_丰台  大区_亦庄开发区  大区_大兴  大区_房山  \\\n",
       "0              0    10000   59.11      1      0         0      0      0   \n",
       "1              1     6000   56.92      1      0         0      0      0   \n",
       "2              2     6900   40.57      1      0         0      0      0   \n",
       "3              3     8000   57.09      1      0         0      0      0   \n",
       "4              4     5500   42.67      1      0         0      0      0   \n",
       "...          ...      ...     ...    ...    ...       ...    ...    ...   \n",
       "5760        5768     5500  114.03      0      0         0      0      0   \n",
       "5761        5769     5000   59.00      0      0         0      0      0   \n",
       "5762        5770     5800   92.41      0      0         0      0      0   \n",
       "5763        5771     4200   71.81      0      0         0      0      0   \n",
       "5764        5772     2700   35.43      0      0         0      0      0   \n",
       "\n",
       "      大区_昌平  大区_朝阳  ...  户型_2室1卫  户型_2室1厅  户型_2室2厅  户型_3室1卫  户型_3室1厅  户型_3室2厅  \\\n",
       "0         0      0  ...        0        0        0        0        0        0   \n",
       "1         0      0  ...        0        0        0        0        0        0   \n",
       "2         0      0  ...        0        0        0        0        0        0   \n",
       "3         0      0  ...        0        1        0        0        0        0   \n",
       "4         0      0  ...        0        0        0        0        0        0   \n",
       "...     ...    ...  ...      ...      ...      ...      ...      ...      ...   \n",
       "5760      0      0  ...        0        0        0        0        1        0   \n",
       "5761      0      0  ...        0        0        0        0        0        0   \n",
       "5762      0      0  ...        0        0        0        0        1        0   \n",
       "5763      0      0  ...        0        1        0        0        0        0   \n",
       "5764      0      0  ...        0        0        0        0        0        0   \n",
       "\n",
       "      户型_4室1厅  户型_4室2厅  户型_5室2厅  户型_其他  \n",
       "0           0        0        0      0  \n",
       "1           0        0        0      1  \n",
       "2           0        0        0      0  \n",
       "3           0        0        0      0  \n",
       "4           0        0        0      0  \n",
       "...       ...      ...      ...    ...  \n",
       "5760        0        0        0      0  \n",
       "5761        0        0        0      1  \n",
       "5762        0        0        0      0  \n",
       "5763        0        0        0      0  \n",
       "5764        0        0        0      0  \n",
       "\n",
       "[5765 rows x 29 columns]"
      ]
     },
     "execution_count": 405,
     "metadata": {},
     "output_type": "execute_result"
    }
   ],
   "source": [
    "data=pd.read_csv('data/BJ_data.csv')\n",
    "data"
   ]
  },
  {
   "cell_type": "code",
   "execution_count": 406,
   "metadata": {},
   "outputs": [],
   "source": [
    "data=data.drop('Unnamed: 0',axis=1)"
   ]
  },
  {
   "cell_type": "code",
   "execution_count": 407,
   "metadata": {},
   "outputs": [],
   "source": [
    "# 拆分目标变量y和特征变量X\n",
    "Data_X=Data.drop(['租金(元/月)'],axis=1)\n",
    "Data_y=Data['租金(元/月)']"
   ]
  },
  {
   "cell_type": "code",
   "execution_count": 412,
   "metadata": {},
   "outputs": [],
   "source": [
    "# 数据拆分为测试集和训练集比例为0.2\n",
    "from sklearn.model_selection import train_test_split\n",
    "train_x, test_x, train_y, test_y = train_test_split(Data_X, \n",
    "                                                    Data_y, \n",
    "                                                    test_size=0.2, \n",
    "                                                    random_state=421)"
   ]
  },
  {
   "cell_type": "code",
   "execution_count": 413,
   "metadata": {},
   "outputs": [
    {
     "data": {
      "text/plain": [
       "LinearRegression()"
      ]
     },
     "execution_count": 413,
     "metadata": {},
     "output_type": "execute_result"
    }
   ],
   "source": [
    "# 模型训练,线性回归\n",
    "from sklearn import linear_model\n",
    "model = linear_model.LinearRegression()\n",
    "model.fit(train_x,train_y)"
   ]
  },
  {
   "cell_type": "code",
   "execution_count": 414,
   "metadata": {},
   "outputs": [],
   "source": [
    "# 模型预测\n",
    "test_y_pre=model.predict(test_x)"
   ]
  },
  {
   "cell_type": "code",
   "execution_count": 415,
   "metadata": {},
   "outputs": [
    {
     "name": "stdout",
     "output_type": "stream",
     "text": [
      "0.7159584427224335\n"
     ]
    }
   ],
   "source": [
    "# 模型评估R2\n",
    "from sklearn.metrics import r2_score\n",
    "print(r2_score(test_y,test_y_pre))"
   ]
  },
  {
   "cell_type": "code",
   "execution_count": 416,
   "metadata": {},
   "outputs": [],
   "source": [
    "# 准确率大概有71%"
   ]
  },
  {
   "cell_type": "code",
   "execution_count": 417,
   "metadata": {},
   "outputs": [
    {
     "data": {
      "text/plain": [
       "RandomForestRegressor()"
      ]
     },
     "execution_count": 417,
     "metadata": {},
     "output_type": "execute_result"
    }
   ],
   "source": [
    "# 随机森林算法训练 \n",
    "from sklearn.ensemble import RandomForestRegressor \n",
    "model = RandomForestRegressor() \n",
    "model.fit(train_x,train_y)"
   ]
  },
  {
   "cell_type": "code",
   "execution_count": 418,
   "metadata": {},
   "outputs": [],
   "source": [
    "# 模型预测\n",
    "test_y_pre=model.predict(test_x)"
   ]
  },
  {
   "cell_type": "code",
   "execution_count": 419,
   "metadata": {},
   "outputs": [
    {
     "name": "stdout",
     "output_type": "stream",
     "text": [
      "0.7313539242136797\n"
     ]
    }
   ],
   "source": [
    "# 模型评估R2\n",
    "from sklearn.metrics import r2_score\n",
    "print(r2_score(test_y,test_y_pre))"
   ]
  },
  {
   "cell_type": "code",
   "execution_count": null,
   "metadata": {},
   "outputs": [],
   "source": [
    "# 准确率大概有73%"
   ]
  },
  {
   "cell_type": "code",
   "execution_count": null,
   "metadata": {},
   "outputs": [],
   "source": []
  }
 ],
 "metadata": {
  "kernelspec": {
   "display_name": "Python 3 (ipykernel)",
   "language": "python",
   "name": "python3"
  },
  "language_info": {
   "codemirror_mode": {
    "name": "ipython",
    "version": 3
   },
   "file_extension": ".py",
   "mimetype": "text/x-python",
   "name": "python",
   "nbconvert_exporter": "python",
   "pygments_lexer": "ipython3",
   "version": "3.10.13"
  }
 },
 "nbformat": 4,
 "nbformat_minor": 4
}
